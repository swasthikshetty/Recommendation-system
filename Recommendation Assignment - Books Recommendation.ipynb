{
 "cells": [
  {
   "cell_type": "markdown",
   "metadata": {},
   "source": [
    "# Books Recommendation based on 'Ratings'"
   ]
  },
  {
   "cell_type": "code",
   "execution_count": 1,
   "metadata": {},
   "outputs": [],
   "source": [
    "import pandas as pd\n",
    "import numpy as np\n",
    "import matplotlib.pyplot as plt"
   ]
  },
  {
   "cell_type": "markdown",
   "metadata": {},
   "source": [
    "# Read Data into dataframe"
   ]
  },
  {
   "cell_type": "code",
   "execution_count": 2,
   "metadata": {},
   "outputs": [
    {
     "data": {
      "text/html": [
       "<div>\n",
       "<style scoped>\n",
       "    .dataframe tbody tr th:only-of-type {\n",
       "        vertical-align: middle;\n",
       "    }\n",
       "\n",
       "    .dataframe tbody tr th {\n",
       "        vertical-align: top;\n",
       "    }\n",
       "\n",
       "    .dataframe thead th {\n",
       "        text-align: right;\n",
       "    }\n",
       "</style>\n",
       "<table border=\"1\" class=\"dataframe\">\n",
       "  <thead>\n",
       "    <tr style=\"text-align: right;\">\n",
       "      <th></th>\n",
       "      <th>\"\",\"User.ID\",\"Book.Title\",\"Book.Rating\"</th>\n",
       "    </tr>\n",
       "  </thead>\n",
       "  <tbody>\n",
       "    <tr>\n",
       "      <th>0</th>\n",
       "      <td>\"1\",276726,\"Classical Mythology\",5</td>\n",
       "    </tr>\n",
       "    <tr>\n",
       "      <th>1</th>\n",
       "      <td>\"2\",276729,\"Clara Callan\",3</td>\n",
       "    </tr>\n",
       "    <tr>\n",
       "      <th>2</th>\n",
       "      <td>\"3\",276729,\"Decision in Normandy\",6</td>\n",
       "    </tr>\n",
       "    <tr>\n",
       "      <th>3</th>\n",
       "      <td>\"4\",276736,\"Flu: The Story of the Great Influe...</td>\n",
       "    </tr>\n",
       "    <tr>\n",
       "      <th>4</th>\n",
       "      <td>\"5\",276737,\"The Mummies of Urumchi\",6</td>\n",
       "    </tr>\n",
       "  </tbody>\n",
       "</table>\n",
       "</div>"
      ],
      "text/plain": [
       "             \"\",\"User.ID\",\"Book.Title\",\"Book.Rating\"\n",
       "0                 \"1\",276726,\"Classical Mythology\",5\n",
       "1                        \"2\",276729,\"Clara Callan\",3\n",
       "2                \"3\",276729,\"Decision in Normandy\",6\n",
       "3  \"4\",276736,\"Flu: The Story of the Great Influe...\n",
       "4              \"5\",276737,\"The Mummies of Urumchi\",6"
      ]
     },
     "execution_count": 2,
     "metadata": {},
     "output_type": "execute_result"
    }
   ],
   "source": [
    "books = pd.read_csv(\"C:\\\\Users\\\\Swathi\\\\Desktop\\\\Excelr Classes\\\\Assignments\\\\9.Recommendation system\\\\Book.csv\",sep=',',encoding= 'unicode_escape')\n",
    "books.head()"
   ]
  },
  {
   "cell_type": "markdown",
   "metadata": {},
   "source": [
    "# Clean & Tabularize data"
   ]
  },
  {
   "cell_type": "code",
   "execution_count": 3,
   "metadata": {},
   "outputs": [],
   "source": [
    "# change column name to 'Details' instead of \"\",\"User.ID\",\"Book.Title\",\"Book.Rating\"\n",
    "books= books.rename(columns={ books.columns[0]: \"Details\"})"
   ]
  },
  {
   "cell_type": "code",
   "execution_count": 4,
   "metadata": {},
   "outputs": [
    {
     "data": {
      "text/html": [
       "<div>\n",
       "<style scoped>\n",
       "    .dataframe tbody tr th:only-of-type {\n",
       "        vertical-align: middle;\n",
       "    }\n",
       "\n",
       "    .dataframe tbody tr th {\n",
       "        vertical-align: top;\n",
       "    }\n",
       "\n",
       "    .dataframe thead th {\n",
       "        text-align: right;\n",
       "    }\n",
       "</style>\n",
       "<table border=\"1\" class=\"dataframe\">\n",
       "  <thead>\n",
       "    <tr style=\"text-align: right;\">\n",
       "      <th></th>\n",
       "      <th>0</th>\n",
       "      <th>1</th>\n",
       "      <th>2</th>\n",
       "    </tr>\n",
       "  </thead>\n",
       "  <tbody>\n",
       "    <tr>\n",
       "      <th>0</th>\n",
       "      <td>\"1</td>\n",
       "      <td>276726,\"Classical Mythology</td>\n",
       "      <td>5</td>\n",
       "    </tr>\n",
       "    <tr>\n",
       "      <th>1</th>\n",
       "      <td>\"2</td>\n",
       "      <td>276729,\"Clara Callan</td>\n",
       "      <td>3</td>\n",
       "    </tr>\n",
       "    <tr>\n",
       "      <th>2</th>\n",
       "      <td>\"3</td>\n",
       "      <td>276729,\"Decision in Normandy</td>\n",
       "      <td>6</td>\n",
       "    </tr>\n",
       "    <tr>\n",
       "      <th>3</th>\n",
       "      <td>\"4</td>\n",
       "      <td>276736,\"Flu: The Story of the Great Influenza ...</td>\n",
       "      <td>8</td>\n",
       "    </tr>\n",
       "    <tr>\n",
       "      <th>4</th>\n",
       "      <td>\"5</td>\n",
       "      <td>276737,\"The Mummies of Urumchi</td>\n",
       "      <td>6</td>\n",
       "    </tr>\n",
       "  </tbody>\n",
       "</table>\n",
       "</div>"
      ],
      "text/plain": [
       "    0                                                  1  2\n",
       "0  \"1                        276726,\"Classical Mythology  5\n",
       "1  \"2                               276729,\"Clara Callan  3\n",
       "2  \"3                       276729,\"Decision in Normandy  6\n",
       "3  \"4  276736,\"Flu: The Story of the Great Influenza ...  8\n",
       "4  \"5                     276737,\"The Mummies of Urumchi  6"
      ]
     },
     "execution_count": 4,
     "metadata": {},
     "output_type": "execute_result"
    }
   ],
   "source": [
    "# Split data in 'Deatils' into seperate columns\n",
    "book_new = books.Details.str.split('\",',expand=True)\n",
    "book_new.head()"
   ]
  },
  {
   "cell_type": "code",
   "execution_count": 5,
   "metadata": {},
   "outputs": [],
   "source": [
    "#Drop 1st column as its just represents index number/row n\n",
    "book_new.drop(book_new.columns[[0]], axis=1, inplace=True)\n",
    "# book_new.head()"
   ]
  },
  {
   "cell_type": "code",
   "execution_count": 6,
   "metadata": {},
   "outputs": [],
   "source": [
    "# Assign temporary name for columns\n",
    "book_new.columns = [\"Book_Title\",\"Book_Rating\"]\n",
    "# book_new.head()"
   ]
  },
  {
   "cell_type": "code",
   "execution_count": 7,
   "metadata": {},
   "outputs": [],
   "source": [
    "#split 'Book_Title' columns for seperating \"User_ID\" &\"Book_Title\" and store it with dummy dataframe\n",
    "book_dummy=book_new.Book_Title.str.split(',\"',expand=True)\n",
    "# book_dummy.head()"
   ]
  },
  {
   "cell_type": "code",
   "execution_count": 8,
   "metadata": {},
   "outputs": [
    {
     "data": {
      "text/html": [
       "<div>\n",
       "<style scoped>\n",
       "    .dataframe tbody tr th:only-of-type {\n",
       "        vertical-align: middle;\n",
       "    }\n",
       "\n",
       "    .dataframe tbody tr th {\n",
       "        vertical-align: top;\n",
       "    }\n",
       "\n",
       "    .dataframe thead th {\n",
       "        text-align: right;\n",
       "    }\n",
       "</style>\n",
       "<table border=\"1\" class=\"dataframe\">\n",
       "  <thead>\n",
       "    <tr style=\"text-align: right;\">\n",
       "      <th></th>\n",
       "      <th>Book_Title</th>\n",
       "      <th>Book_Rating</th>\n",
       "      <th>0</th>\n",
       "      <th>1</th>\n",
       "    </tr>\n",
       "  </thead>\n",
       "  <tbody>\n",
       "    <tr>\n",
       "      <th>0</th>\n",
       "      <td>276726,\"Classical Mythology</td>\n",
       "      <td>5</td>\n",
       "      <td>276726</td>\n",
       "      <td>Classical Mythology</td>\n",
       "    </tr>\n",
       "    <tr>\n",
       "      <th>1</th>\n",
       "      <td>276729,\"Clara Callan</td>\n",
       "      <td>3</td>\n",
       "      <td>276729</td>\n",
       "      <td>Clara Callan</td>\n",
       "    </tr>\n",
       "    <tr>\n",
       "      <th>2</th>\n",
       "      <td>276729,\"Decision in Normandy</td>\n",
       "      <td>6</td>\n",
       "      <td>276729</td>\n",
       "      <td>Decision in Normandy</td>\n",
       "    </tr>\n",
       "    <tr>\n",
       "      <th>3</th>\n",
       "      <td>276736,\"Flu: The Story of the Great Influenza ...</td>\n",
       "      <td>8</td>\n",
       "      <td>276736</td>\n",
       "      <td>Flu: The Story of the Great Influenza Pandemic...</td>\n",
       "    </tr>\n",
       "    <tr>\n",
       "      <th>4</th>\n",
       "      <td>276737,\"The Mummies of Urumchi</td>\n",
       "      <td>6</td>\n",
       "      <td>276737</td>\n",
       "      <td>The Mummies of Urumchi</td>\n",
       "    </tr>\n",
       "  </tbody>\n",
       "</table>\n",
       "</div>"
      ],
      "text/plain": [
       "                                          Book_Title Book_Rating       0  \\\n",
       "0                        276726,\"Classical Mythology           5  276726   \n",
       "1                               276729,\"Clara Callan           3  276729   \n",
       "2                       276729,\"Decision in Normandy           6  276729   \n",
       "3  276736,\"Flu: The Story of the Great Influenza ...           8  276736   \n",
       "4                     276737,\"The Mummies of Urumchi           6  276737   \n",
       "\n",
       "                                                   1  \n",
       "0                                Classical Mythology  \n",
       "1                                       Clara Callan  \n",
       "2                               Decision in Normandy  \n",
       "3  Flu: The Story of the Great Influenza Pandemic...  \n",
       "4                             The Mummies of Urumchi  "
      ]
     },
     "execution_count": 8,
     "metadata": {},
     "output_type": "execute_result"
    }
   ],
   "source": [
    "#concat original dataframe and dummy dataframe\n",
    "book = pd.concat([book_new, book_dummy], axis =1)\n",
    "book.head()"
   ]
  },
  {
   "cell_type": "code",
   "execution_count": 9,
   "metadata": {},
   "outputs": [
    {
     "data": {
      "text/html": [
       "<div>\n",
       "<style scoped>\n",
       "    .dataframe tbody tr th:only-of-type {\n",
       "        vertical-align: middle;\n",
       "    }\n",
       "\n",
       "    .dataframe tbody tr th {\n",
       "        vertical-align: top;\n",
       "    }\n",
       "\n",
       "    .dataframe thead th {\n",
       "        text-align: right;\n",
       "    }\n",
       "</style>\n",
       "<table border=\"1\" class=\"dataframe\">\n",
       "  <thead>\n",
       "    <tr style=\"text-align: right;\">\n",
       "      <th></th>\n",
       "      <th>Book_Rating</th>\n",
       "      <th>0</th>\n",
       "      <th>1</th>\n",
       "    </tr>\n",
       "  </thead>\n",
       "  <tbody>\n",
       "    <tr>\n",
       "      <th>0</th>\n",
       "      <td>5</td>\n",
       "      <td>276726</td>\n",
       "      <td>Classical Mythology</td>\n",
       "    </tr>\n",
       "    <tr>\n",
       "      <th>1</th>\n",
       "      <td>3</td>\n",
       "      <td>276729</td>\n",
       "      <td>Clara Callan</td>\n",
       "    </tr>\n",
       "    <tr>\n",
       "      <th>2</th>\n",
       "      <td>6</td>\n",
       "      <td>276729</td>\n",
       "      <td>Decision in Normandy</td>\n",
       "    </tr>\n",
       "    <tr>\n",
       "      <th>3</th>\n",
       "      <td>8</td>\n",
       "      <td>276736</td>\n",
       "      <td>Flu: The Story of the Great Influenza Pandemic...</td>\n",
       "    </tr>\n",
       "    <tr>\n",
       "      <th>4</th>\n",
       "      <td>6</td>\n",
       "      <td>276737</td>\n",
       "      <td>The Mummies of Urumchi</td>\n",
       "    </tr>\n",
       "    <tr>\n",
       "      <th>...</th>\n",
       "      <td>...</td>\n",
       "      <td>...</td>\n",
       "      <td>...</td>\n",
       "    </tr>\n",
       "    <tr>\n",
       "      <th>9995</th>\n",
       "      <td>7</td>\n",
       "      <td>162121</td>\n",
       "      <td>American Fried: Adventures of a Happy Eater.</td>\n",
       "    </tr>\n",
       "    <tr>\n",
       "      <th>9996</th>\n",
       "      <td>9</td>\n",
       "      <td>162121</td>\n",
       "      <td>Cannibal In Manhattan</td>\n",
       "    </tr>\n",
       "    <tr>\n",
       "      <th>9997</th>\n",
       "      <td>7</td>\n",
       "      <td>162121</td>\n",
       "      <td>How to Flirt: A Practical Guide</td>\n",
       "    </tr>\n",
       "    <tr>\n",
       "      <th>9998</th>\n",
       "      <td>8</td>\n",
       "      <td>162121</td>\n",
       "      <td>Twilight</td>\n",
       "    </tr>\n",
       "    <tr>\n",
       "      <th>9999</th>\n",
       "      <td>6</td>\n",
       "      <td>162129</td>\n",
       "      <td>Kids Say the Darndest Things</td>\n",
       "    </tr>\n",
       "  </tbody>\n",
       "</table>\n",
       "<p>10000 rows × 3 columns</p>\n",
       "</div>"
      ],
      "text/plain": [
       "     Book_Rating       0                                                  1\n",
       "0              5  276726                                Classical Mythology\n",
       "1              3  276729                                       Clara Callan\n",
       "2              6  276729                               Decision in Normandy\n",
       "3              8  276736  Flu: The Story of the Great Influenza Pandemic...\n",
       "4              6  276737                             The Mummies of Urumchi\n",
       "...          ...     ...                                                ...\n",
       "9995           7  162121       American Fried: Adventures of a Happy Eater.\n",
       "9996           9  162121                              Cannibal In Manhattan\n",
       "9997           7  162121                    How to Flirt: A Practical Guide\n",
       "9998           8  162121                                           Twilight\n",
       "9999           6  162129                       Kids Say the Darndest Things\n",
       "\n",
       "[10000 rows x 3 columns]"
      ]
     },
     "execution_count": 9,
     "metadata": {},
     "output_type": "execute_result"
    }
   ],
   "source": [
    "# drop the 1st column as the data is already split and concated through dummy dataframe\n",
    "book.drop(book.columns[[0]], axis=1, inplace=True)\n",
    "book"
   ]
  },
  {
   "cell_type": "code",
   "execution_count": 10,
   "metadata": {},
   "outputs": [
    {
     "data": {
      "text/html": [
       "<div>\n",
       "<style scoped>\n",
       "    .dataframe tbody tr th:only-of-type {\n",
       "        vertical-align: middle;\n",
       "    }\n",
       "\n",
       "    .dataframe tbody tr th {\n",
       "        vertical-align: top;\n",
       "    }\n",
       "\n",
       "    .dataframe thead th {\n",
       "        text-align: right;\n",
       "    }\n",
       "</style>\n",
       "<table border=\"1\" class=\"dataframe\">\n",
       "  <thead>\n",
       "    <tr style=\"text-align: right;\">\n",
       "      <th></th>\n",
       "      <th>BookRating</th>\n",
       "      <th>UserID</th>\n",
       "      <th>BookTitle</th>\n",
       "    </tr>\n",
       "  </thead>\n",
       "  <tbody>\n",
       "    <tr>\n",
       "      <th>0</th>\n",
       "      <td>5</td>\n",
       "      <td>276726</td>\n",
       "      <td>Classical Mythology</td>\n",
       "    </tr>\n",
       "    <tr>\n",
       "      <th>1</th>\n",
       "      <td>3</td>\n",
       "      <td>276729</td>\n",
       "      <td>Clara Callan</td>\n",
       "    </tr>\n",
       "    <tr>\n",
       "      <th>2</th>\n",
       "      <td>6</td>\n",
       "      <td>276729</td>\n",
       "      <td>Decision in Normandy</td>\n",
       "    </tr>\n",
       "    <tr>\n",
       "      <th>3</th>\n",
       "      <td>8</td>\n",
       "      <td>276736</td>\n",
       "      <td>Flu: The Story of the Great Influenza Pandemic...</td>\n",
       "    </tr>\n",
       "    <tr>\n",
       "      <th>4</th>\n",
       "      <td>6</td>\n",
       "      <td>276737</td>\n",
       "      <td>The Mummies of Urumchi</td>\n",
       "    </tr>\n",
       "  </tbody>\n",
       "</table>\n",
       "</div>"
      ],
      "text/plain": [
       "  BookRating  UserID                                          BookTitle\n",
       "0          5  276726                                Classical Mythology\n",
       "1          3  276729                                       Clara Callan\n",
       "2          6  276729                               Decision in Normandy\n",
       "3          8  276736  Flu: The Story of the Great Influenza Pandemic...\n",
       "4          6  276737                             The Mummies of Urumchi"
      ]
     },
     "execution_count": 10,
     "metadata": {},
     "output_type": "execute_result"
    }
   ],
   "source": [
    "#Assign new column names for the dataframe\n",
    "book.columns = [\"BookRating\",\"UserID\",\"BookTitle\"]\n",
    "book.head()"
   ]
  },
  {
   "cell_type": "code",
   "execution_count": 11,
   "metadata": {},
   "outputs": [],
   "source": [
    "#Tablurize and store the cleaned data for better analysis \n",
    "book.to_csv(\"tabluarized_data.csv\")"
   ]
  },
  {
   "cell_type": "code",
   "execution_count": 12,
   "metadata": {},
   "outputs": [
    {
     "name": "stdout",
     "output_type": "stream",
     "text": [
      "Number of rows:  10000\n",
      "Number of columns:  3\n",
      "Number of rows and columns:  (10000, 3)\n",
      "Number of elements:  30000\n"
     ]
    }
   ],
   "source": [
    "print(\"Number of rows: \", len(book))\n",
    "print(\"Number of columns: \",len(book.columns))\n",
    "print(\"Number of rows and columns: \",book.shape)\n",
    "print(\"Number of elements: \",book.size)\n",
    "# print(\"Number of rows, columns, etc: \", book.info())\n",
    "# print (\"\\nIdentify outliers & other info like Mean,median,max,min etc:\\n\\n\",book.describe())"
   ]
  },
  {
   "cell_type": "code",
   "execution_count": 13,
   "metadata": {},
   "outputs": [],
   "source": [
    "from sklearn.feature_extraction.text import TfidfVectorizer\n",
    "tfidf = TfidfVectorizer(stop_words = 'english')"
   ]
  },
  {
   "cell_type": "code",
   "execution_count": 14,
   "metadata": {},
   "outputs": [],
   "source": [
    "book.columns.isnull()\n",
    "book[\"BookTitle\"].isnull()\n",
    "book[\"BookTitle\"] = book[\"BookTitle\"].fillna(\" \")"
   ]
  },
  {
   "cell_type": "code",
   "execution_count": 15,
   "metadata": {},
   "outputs": [
    {
     "name": "stdout",
     "output_type": "stream",
     "text": [
      "Shape of Original DF :  (10000, 3)\n",
      "Shape of TFIDF Matrix:  (10000, 11393)\n"
     ]
    }
   ],
   "source": [
    "# using below code we convert data into vectoriztion\n",
    "\n",
    "tfidf_matrix = tfidf.fit_transform(book.BookTitle)\n",
    "print(\"Shape of Original DF : \",book.shape)\n",
    "print(\"Shape of TFIDF Matrix: \",tfidf_matrix.shape)"
   ]
  },
  {
   "cell_type": "code",
   "execution_count": 16,
   "metadata": {},
   "outputs": [
    {
     "name": "stdout",
     "output_type": "stream",
     "text": [
      "[[1. 0. 0. ... 0. 0. 0.]\n",
      " [0. 1. 0. ... 0. 0. 0.]\n",
      " [0. 0. 1. ... 0. 0. 0.]\n",
      " ...\n",
      " [0. 0. 0. ... 1. 0. 0.]\n",
      " [0. 0. 0. ... 0. 1. 0.]\n",
      " [0. 0. 0. ... 0. 0. 1.]]\n"
     ]
    }
   ],
   "source": [
    "# This is item to item recoomendation which happens offline\n",
    "\n",
    "from sklearn.metrics.pairwise import linear_kernel\n",
    "cosine_sim_matrix = linear_kernel(tfidf_matrix,tfidf_matrix) # cos_sim_matrix is obtained by matrix * matrix\n",
    "print(cosine_sim_matrix)"
   ]
  },
  {
   "cell_type": "code",
   "execution_count": 17,
   "metadata": {},
   "outputs": [
    {
     "data": {
      "text/plain": [
       "fahrenheit 451                                     5\n",
       "stardust                                           5\n",
       "ender's game (ender wiggins saga (paperback))      4\n",
       "the amber spyglass (his dark materials, book 3)    4\n",
       "charlie and the chocolate factory                  4\n",
       "                                                  ..\n",
       "susie, sadly, and the black torpedo of doom        1\n",
       "tangle box                                         1\n",
       "christmas : a holiday treasury                     1\n",
       "the art of mending : a novel (berg, elizabeth)     1\n",
       "crimes of neglect                                  1\n",
       "Name: BookTitle, Length: 9638, dtype: int64"
      ]
     },
     "execution_count": 17,
     "metadata": {},
     "output_type": "execute_result"
    }
   ],
   "source": [
    "book['BookTitle']= book['BookTitle'].str.lower()\n",
    "book.BookTitle.value_counts()"
   ]
  },
  {
   "cell_type": "code",
   "execution_count": 18,
   "metadata": {},
   "outputs": [],
   "source": [
    "book.drop_duplicates(subset =\"BookTitle\",keep='first',inplace = True)\n",
    "book.reset_index(drop=True,inplace = True)"
   ]
  },
  {
   "cell_type": "code",
   "execution_count": 19,
   "metadata": {},
   "outputs": [
    {
     "name": "stdout",
     "output_type": "stream",
     "text": [
      "BookTitle\n",
      "classical mythology                                                                                      0\n",
      "clara callan                                                                                             1\n",
      "decision in normandy                                                                                     2\n",
      "flu: the story of the great influenza pandemic of 1918 and the search for the virus that caused it       3\n",
      "the mummies of urumchi                                                                                   4\n",
      "                                                                                                      ... \n",
      "american fried: adventures of a happy eater.                                                          9633\n",
      "cannibal in manhattan                                                                                 9634\n",
      "how to flirt: a practical guide                                                                       9635\n",
      "twilight                                                                                              9636\n",
      "kids say the darndest things                                                                          9637\n",
      "Length: 9638, dtype: int64\n"
     ]
    }
   ],
   "source": [
    "book_index = pd.Series(book.index, index = book['BookTitle'])\n",
    "book_index.sort_values(ascending=True, inplace=True)\n",
    "print(book_index)"
   ]
  },
  {
   "cell_type": "markdown",
   "metadata": {},
   "source": [
    "# create a function for recommending movies\n",
    "\n",
    "Input = Rating\n",
    "\n",
    "Output = Top N Recommended of Books "
   ]
  },
  {
   "cell_type": "code",
   "execution_count": 52,
   "metadata": {},
   "outputs": [],
   "source": [
    "def get_book_recommendations(BookName,topN):\n",
    "   \n",
    "    #1:get Book index(id) using its title bcz user will enter movie name not index number\n",
    "    book_id = book_index[BookName] \n",
    "    #print(book_id)\n",
    "    \n",
    "    #2: getting the pair wise similarity score of all the movies with that of enterted movie; here enumerate act as counter\n",
    "    cosine_scores = list(enumerate(cosine_sim_matrix[book_id])) \n",
    "    #print(cosine_scores)\n",
    "    \n",
    "    #3: Sorted the obtained score; sort lamda x:x[1] means in dictionary x = [12293(x[0]movie id),0.0(x[1]cosine score)],we shall sort on cosine score\n",
    "    cosine_scores = sorted(cosine_scores, key=lambda x:x[1], reverse = True)\n",
    "    #print(cosine_scores)\n",
    "    \n",
    "    #4: slice the sorted list as per user input (topN); it can top5,top10 or anything\n",
    "    cosine_score_TopN = cosine_scores[0:topN]\n",
    "    print(cosine_score_TopN)\n",
    "\n",
    "    #5:above will give only index number not the movie name. but customer requires movie name\n",
    "    # Getting movie index from the top 10 sorted list X[0]= Movie id and X[1] is similarity score\n",
    "    book_idx = [i[0] for i in cosine_score_TopN]\n",
    "    book_scores = [i[1] for i in cosine_score_TopN]\n",
    "    \n",
    "    #6. Create dataframe to store the similar movie list\n",
    "    book_similar_show = pd.DataFrame(columns=[\"BookTitle\",\"Score\"])\n",
    "    \n",
    "    \n",
    "    #7. Put the topN data into dataframe\n",
    "    book_similar_show[\"BookTitle\"] = book.loc[book_idx,\"BookTitle\"] # using anime index we fetch movie name from anime\n",
    "    book_similar_show[\"Score\"]= book_scores\n",
    "    \n",
    "# #     print(\"Before Reset:\",book_similar_show)\n",
    "    book_similar_show.reset_index(inplace=True) # this will show anime_idx value as seperate columns\n",
    "#     print(\"After Reset:\",book_similar_show)\n",
    "    book_similar_show.drop([\"index\"],axis=1,inplace=True)\n",
    "    \n",
    "    #8.OutPut\n",
    "    return book_similar_show"
   ]
  },
  {
   "cell_type": "code",
   "execution_count": 53,
   "metadata": {},
   "outputs": [
    {
     "name": "stdout",
     "output_type": "stream",
     "text": [
      "[(3, 1.0000000000000002), (7760, 0.23030946840620475), (1341, 0.21897028740099653), (7552, 0.2046583436772717), (2376, 0.16639108548710613)]\n"
     ]
    },
    {
     "data": {
      "text/html": [
       "<div>\n",
       "<style scoped>\n",
       "    .dataframe tbody tr th:only-of-type {\n",
       "        vertical-align: middle;\n",
       "    }\n",
       "\n",
       "    .dataframe tbody tr th {\n",
       "        vertical-align: top;\n",
       "    }\n",
       "\n",
       "    .dataframe thead th {\n",
       "        text-align: right;\n",
       "    }\n",
       "</style>\n",
       "<table border=\"1\" class=\"dataframe\">\n",
       "  <thead>\n",
       "    <tr style=\"text-align: right;\">\n",
       "      <th></th>\n",
       "      <th>BookTitle</th>\n",
       "      <th>Score</th>\n",
       "    </tr>\n",
       "  </thead>\n",
       "  <tbody>\n",
       "    <tr>\n",
       "      <th>0</th>\n",
       "      <td>flu: the story of the great influenza pandemic...</td>\n",
       "      <td>1.000000</td>\n",
       "    </tr>\n",
       "    <tr>\n",
       "      <th>1</th>\n",
       "      <td>el respeto hacia uno mismo</td>\n",
       "      <td>0.230309</td>\n",
       "    </tr>\n",
       "    <tr>\n",
       "      <th>2</th>\n",
       "      <td>men and brethren</td>\n",
       "      <td>0.218970</td>\n",
       "    </tr>\n",
       "    <tr>\n",
       "      <th>3</th>\n",
       "      <td>the golfer's book of wisdom: common sense and ...</td>\n",
       "      <td>0.204658</td>\n",
       "    </tr>\n",
       "    <tr>\n",
       "      <th>4</th>\n",
       "      <td>death of a river guide</td>\n",
       "      <td>0.166391</td>\n",
       "    </tr>\n",
       "  </tbody>\n",
       "</table>\n",
       "</div>"
      ],
      "text/plain": [
       "                                           BookTitle     Score\n",
       "0  flu: the story of the great influenza pandemic...  1.000000\n",
       "1                         el respeto hacia uno mismo  0.230309\n",
       "2                                   men and brethren  0.218970\n",
       "3  the golfer's book of wisdom: common sense and ...  0.204658\n",
       "4                             death of a river guide  0.166391"
      ]
     },
     "execution_count": 53,
     "metadata": {},
     "output_type": "execute_result"
    }
   ],
   "source": [
    "Top_N_Books = get_book_recommendations(3,5)\n",
    "Top_N_Books"
   ]
  },
  {
   "cell_type": "code",
   "execution_count": null,
   "metadata": {},
   "outputs": [],
   "source": []
  },
  {
   "cell_type": "code",
   "execution_count": null,
   "metadata": {},
   "outputs": [],
   "source": []
  }
 ],
 "metadata": {
  "kernelspec": {
   "display_name": "Python 3",
   "language": "python",
   "name": "python3"
  },
  "language_info": {
   "codemirror_mode": {
    "name": "ipython",
    "version": 3
   },
   "file_extension": ".py",
   "mimetype": "text/x-python",
   "name": "python",
   "nbconvert_exporter": "python",
   "pygments_lexer": "ipython3",
   "version": "3.7.6"
  }
 },
 "nbformat": 4,
 "nbformat_minor": 4
}
